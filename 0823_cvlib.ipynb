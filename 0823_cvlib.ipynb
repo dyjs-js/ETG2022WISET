{
 "cells": [
  {
   "cell_type": "code",
   "execution_count": 4,
   "metadata": {},
   "outputs": [],
   "source": [
    "import cv2\n",
    "import cvlib as cv\n",
    "\n",
    "img = cv2.imread('/Users/ejju/Desktop/people.jpg')\n",
    "gray = cv2.cvtColor(img, cv2.COLOR_BGR2GRAY)\n",
    "\n",
    "# 얼굴 찾기\n",
    "faces, confidences = cv.detect_face(img)\n",
    "\n",
    "for (x, y, x2, y2), conf in zip(faces, confidences):\n",
    "\t\t# 확률 출력하기\n",
    "    cv2.putText(img, str(conf), (x,y-10), cv2.FONT_HERSHEY_PLAIN, 1, (0, 255, 0), 1)\n",
    "\t\t# 얼굴위치 bbox 그리기\n",
    "    cv2.rectangle(img, (x, y), (x2, y2), (0, 255, 0), 2)\n",
    "\n",
    "# 영상 출력\n",
    "cv2.imshow('image', img)\n",
    "\n",
    "key = cv2.waitKey(0)\n",
    "cv2.destroyAllWindows()"
   ]
  },
  {
   "cell_type": "code",
   "execution_count": 1,
   "metadata": {},
   "outputs": [
    {
     "name": "stdout",
     "output_type": "stream",
     "text": [
      "Downloading data from https://download.cvlib.net/config/gender_detection/gender_deploy.prototxt\n",
      "2309/2309 [==============================] - 0s 0us/step\n",
      "Downloading data from https://github.com/arunponnusamy/cvlib-files/releases/download/v0.1/gender_net.caffemodel\n",
      "45649168/45649168 [==============================] - 12s 0us/step\n",
      "[INFO] Initializing gender detection model ..\n"
     ]
    }
   ],
   "source": [
    "import cv2\n",
    "import cvlib as cv\n",
    "import numpy as np\n",
    "\n",
    "img = cv2.imread('/Users/ejju/Desktop/people.jpg')\n",
    "gray = cv2.cvtColor(img, cv2.COLOR_BGR2GRAY)\n",
    "\n",
    "# 얼굴 찾기\n",
    "faces, confidences = cv.detect_face(img)\n",
    "\n",
    "for (x, y, x2, y2)in faces:\n",
    "\n",
    "    # 얼굴 roi 지정\n",
    "    face_img = img[y:y2, x:x2]\n",
    " \n",
    "    # 성별 예측하기\n",
    "    label, confidence = cv.detect_gender(face_img)\n",
    "\n",
    "    cv2.rectangle(img, (x, y), (x2, y2), (0, 255, 0), 2)\n",
    "\n",
    "    gender = np.argmax(confidence)\n",
    "    text = f'{label[gender]}:{confidence[gender]:.1%}'\n",
    "    cv2.putText(img, text, (x,y-10), cv2.FONT_HERSHEY_PLAIN, 1, (0, 255, 0), 1)\n",
    "\n",
    "# 영상 출력\n",
    "cv2.imshow('image', img)\n",
    "\n",
    "key = cv2.waitKey(0)\n",
    "cv2.destroyAllWindows()"
   ]
  }
 ],
 "metadata": {
  "kernelspec": {
   "display_name": "Python 3.9.7 ('base')",
   "language": "python",
   "name": "python3"
  },
  "language_info": {
   "codemirror_mode": {
    "name": "ipython",
    "version": 3
   },
   "file_extension": ".py",
   "mimetype": "text/x-python",
   "name": "python",
   "nbconvert_exporter": "python",
   "pygments_lexer": "ipython3",
   "version": "3.9.7"
  },
  "orig_nbformat": 4,
  "vscode": {
   "interpreter": {
    "hash": "c1de356c01870b1905353d93fb5b08e9dac708fcd7a1cb7f129b78550db01998"
   }
  }
 },
 "nbformat": 4,
 "nbformat_minor": 2
}
