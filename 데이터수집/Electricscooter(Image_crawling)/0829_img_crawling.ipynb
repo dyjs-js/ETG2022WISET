{
  "nbformat": 4,
  "nbformat_minor": 0,
  "metadata": {
    "colab": {
      "name": "0829_img_crawling.ipynb",
      "provenance": [],
      "collapsed_sections": [],
      "authorship_tag": "ABX9TyP+yfgMeDkJqr8ZWrYWUgwT",
      "include_colab_link": true
    },
    "kernelspec": {
      "name": "python3",
      "display_name": "Python 3"
    },
    "language_info": {
      "name": "python"
    }
  },
  "cells": [
    {
      "cell_type": "markdown",
      "metadata": {
        "id": "view-in-github",
        "colab_type": "text"
      },
      "source": [
        "<a href=\"https://colab.research.google.com/github/dyjs-js/etg2022WISET/blob/image_crawling/0829_img_crawling.ipynb\" target=\"_parent\"><img src=\"https://colab.research.google.com/assets/colab-badge.svg\" alt=\"Open In Colab\"/></a>"
      ]
    },
    {
      "cell_type": "code",
      "execution_count": null,
      "metadata": {
        "id": "4mtG-RaV9svh"
      },
      "outputs": [],
      "source": [
        "from wsgiref import headers\n",
        "from selenium import webdriver\n",
        "from selenium.webdriver.common.keys import Keys\n",
        "from selenium.webdriver.common.by import By\n",
        "import urllib.request\n",
        "from urllib.request import Request, urlopen\n",
        "import time\n",
        "\n",
        "options = webdriver.ChromeOptions()\n",
        "options.add_experimental_option(\"excludeSwitches\", [\"enable-logging\"])\n",
        "driver = webdriver.Chrome(executable_path=\"C:\\ETG\\PM\\chromedriver\",options=options)\n",
        "\n",
        "driver.get(\"https://www.google.co.kr/imghp?hl=ko&tab=wi&authuser=0&ogbl\")\n",
        "elem = driver.find_element(By.NAME, \"q\")\n",
        "elem.send_keys(\"공유킥보드\")\n",
        "elem.send_keys(Keys.RETURN)\n",
        "\n",
        "#\n",
        "SCROLL_PAUSE_TIME = 1\n",
        "# Get scroll height\n",
        "last_height = driver.execute_script(\"return document.body.scrollHeight\")  # 브라우저의 높이를 자바스크립트로 찾음\n",
        "while True:\n",
        "    # Scroll down to bottom\n",
        "    driver.execute_script(\"window.scrollTo(0, document.body.scrollHeight);\")  # 브라우저 끝까지 스크롤을 내림\n",
        "    # Wait to load page\n",
        "    time.sleep(SCROLL_PAUSE_TIME)\n",
        "    # Calculate new scroll height and compare with last scroll height\n",
        "    new_height = driver.execute_script(\"return document.body.scrollHeight\")\n",
        "    if new_height == last_height:\n",
        "        try:\n",
        "            driver.find_element_by_css_selector(\".mye4qd\").click()\n",
        "        except:\n",
        "            break\n",
        "    last_height = new_height\n",
        "\n",
        "images = driver.find_elements(By.CSS_SELECTOR, \".rg_i.Q4LuWd\")\n",
        "# urllib.error.HTTPError: HTTP Error 403: Forbidden 에러 해결\n",
        "opener = urllib.request.build_opener()\n",
        "opener.addheaders = [('User-Agent', 'Mozila/5.0')]\n",
        "urllib.request.install_opener(opener)\n",
        "\n",
        "count = 1\n",
        "for image in images:\n",
        "    try:\n",
        "        image.click()\n",
        "        time.sleep(2)\n",
        "        imgUrl = driver.find_element(By.CSS_SELECTOR,\".n3VNCb.KAlRDb\").get_attribute(\"src\")\n",
        "        urllib.request.urlretrieve(imgUrl, str(count) + \".jpg\" )\n",
        "        count = count + 1\n",
        "        # if count >= 260:\n",
        "        #     break\n",
        "    except:\n",
        "        pass\n",
        "\n",
        "driver.close()"
      ]
    }
  ]
}
