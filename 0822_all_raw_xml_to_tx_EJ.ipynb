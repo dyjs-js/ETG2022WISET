{
  "cells": [
    {
      "cell_type": "code",
      "execution_count": null,
      "metadata": {
        "id": "hdBSaZ4Ji5uJ",
        "outputId": "edabbb45-eb11-4267-9492-87ee0fa6c571"
      },
      "outputs": [
        {
          "data": {
            "text/plain": [
              "['/Users/ejju/Desktop/개발자대회_WISET/ju/xml_files_ju/0617_01.xml',\n",
              " '/Users/ejju/Desktop/개발자대회_WISET/ju/xml_files_ju/0617_02.xml',\n",
              " '/Users/ejju/Desktop/개발자대회_WISET/ju/xml_files_ju/0617_04.xml',\n",
              " '/Users/ejju/Desktop/개발자대회_WISET/ju/xml_files_ju/0617_05.xml',\n",
              " '/Users/ejju/Desktop/개발자대회_WISET/ju/xml_files_ju/0619_01.xml',\n",
              " '/Users/ejju/Desktop/개발자대회_WISET/ju/xml_files_ju/0619_02.xml',\n",
              " '/Users/ejju/Desktop/개발자대회_WISET/ju/xml_files_ju/0619_03.xml',\n",
              " '/Users/ejju/Desktop/개발자대회_WISET/ju/xml_files_ju/0619_04.xml',\n",
              " '/Users/ejju/Desktop/개발자대회_WISET/ju/xml_files_ju/0619_05.xml',\n",
              " '/Users/ejju/Desktop/개발자대회_WISET/ju/xml_files_ju/0619_06.xml',\n",
              " '/Users/ejju/Desktop/개발자대회_WISET/ju/xml_files_ju/0619_07.xml',\n",
              " '/Users/ejju/Desktop/개발자대회_WISET/ju/xml_files_ju/0619_08.xml',\n",
              " '/Users/ejju/Desktop/개발자대회_WISET/ju/xml_files_ju/0619_09.xml',\n",
              " '/Users/ejju/Desktop/개발자대회_WISET/ju/xml_files_ju/0619_10.xml',\n",
              " '/Users/ejju/Desktop/개발자대회_WISET/ju/xml_files_ju/0620_01.xml',\n",
              " '/Users/ejju/Desktop/개발자대회_WISET/ju/xml_files_ju/0620_02.xml',\n",
              " '/Users/ejju/Desktop/개발자대회_WISET/ju/xml_files_ju/0620_03.xml',\n",
              " '/Users/ejju/Desktop/개발자대회_WISET/ju/xml_files_ju/0620_04.xml',\n",
              " '/Users/ejju/Desktop/개발자대회_WISET/ju/xml_files_ju/0620_05.xml',\n",
              " '/Users/ejju/Desktop/개발자대회_WISET/ju/xml_files_ju/0620_06.xml',\n",
              " '/Users/ejju/Desktop/개발자대회_WISET/ju/xml_files_ju/0620_07.xml',\n",
              " '/Users/ejju/Desktop/개발자대회_WISET/ju/xml_files_ju/0620_08.xml']"
            ]
          },
          "execution_count": 4,
          "metadata": {},
          "output_type": "execute_result"
        }
      ],
      "source": [
        "import pandas as pd\n",
        "import os\n",
        "import glob\n",
        "\n",
        "file_list=glob.glob('/Users/ejju/Desktop/개발자대회_WISET/ju/xml_files_ju/*.xml')\n",
        "file_list=sorted(file_list)\n",
        "file_list"
      ]
    },
    {
      "cell_type": "code",
      "execution_count": null,
      "metadata": {
        "id": "c0yo9S0ni5uK",
        "outputId": "b9d340a9-f77d-4716-84bb-57fbadf39923"
      },
      "outputs": [
        {
          "name": "stdout",
          "output_type": "stream",
          "text": [
            "1684\n",
            "1784\n",
            "2047\n",
            "1614\n",
            "689\n",
            "890\n",
            "1355\n",
            "947\n",
            "871\n",
            "1078\n",
            "1054\n",
            "1220\n",
            "1143\n",
            "1163\n",
            "1118\n",
            "1018\n",
            "1133\n",
            "1123\n",
            "817\n",
            "903\n",
            "1051\n",
            "880\n"
          ]
        }
      ],
      "source": [
        "# xml데이터 가져오기\n",
        "for file in file_list:\n",
        "    import xml.etree.ElementTree as ET\n",
        "    tree = ET.parse(file)\n",
        "    root = tree.getroot()\n",
        "    \n",
        "    \n",
        "    rows=[]\n",
        "\n",
        "    for i in range(2,len(root)):\n",
        "        id=root[i].attrib['id']\n",
        "        name=root[i].attrib['name']\n",
        "        x=root[i] #중요!!! 이전 파일에서 x를 선언해주지 않아서 x.attrib관련 수치들이 랜덤으로 들어왔었음\n",
        "        for j in range(len(x)):\n",
        "            label = x[j].attrib['label']\n",
        "            xtl = x[j].attrib['xtl']\n",
        "            ytl = x[j].attrib['ytl']\n",
        "            xbr = x[j].attrib['xbr']\n",
        "            ybr = x[j].attrib['ybr']\n",
        "            rows.append({\n",
        "                \"id\": id,\n",
        "                \"name\": name,\n",
        "                \"label\": label,\n",
        "                \"xtl\": xtl,\n",
        "                \"ytl\": ytl,\n",
        "                \"xbr\": xbr,\n",
        "                \"ybr\": ybr,\n",
        "                })\n",
        "\n",
        "    # 데이터프레임으로 변환했을 때 열(row) 수와 일치하는지 확인하기 위해 rows의 길이를 확인        \n",
        "    print(len(rows))\n",
        "    # 데이터프레임으로 보기\n",
        "    df = pd.DataFrame(rows)\n",
        "    \n",
        "    # 문자열로 표현되어 있는 좌표 표시 수치를 숫자형으로 변환하고 info()메서드로 확인\n",
        "    df[['xtl','ytl','xbr','ybr']]=df[['xtl','ytl','xbr','ybr']].apply(pd.to_numeric)\n",
        "\n",
        "    # 여러 txt파일이 생성되므로 먼저 저장할 폴더 생성하기\n",
        "    def createFolder(directory):\n",
        "        try:\n",
        "            if not os.path.exists(directory):\n",
        "                os.makedirs(directory)\n",
        "        except OSError:\n",
        "            print('Error:Creating directory.'+directory)\n",
        "    createFolder('/Users/ejju/Desktop/개발자대회_WISET/ju/all_txt_files')\n",
        "\n",
        "    # 위 셀에서 한 이미지파일에 대해 하나의 txt파일 만든 것을 반복문에 이용하여 모든 이미지파일에 적용하여 각각의 txt파일 만들기\n",
        "    # 파일 이름들이 저장되는 리스트 만들기\n",
        "    file_names=[]\n",
        "    for i in range(2, len(root)):\n",
        "        name=root[i].attrib['name']\n",
        "        file_names.append(name)\n",
        "\n",
        "    # 각 이미지파일에 해당하는 행들끼리 나눠주기\n",
        "    df_txt_files=[]\n",
        "    for i in range(len(file_names)):\n",
        "        df_image=(df['name']==file_names[i])\n",
        "        df_txt_file=df[df_image]\n",
        "        df_txt_files.append(df_txt_file)\n",
        "\n",
        "    # 각 txt파일에 들어갈 컬럼들만 추출    \n",
        "    df_columns=[]\n",
        "    for i in range(len(df_txt_files)):\n",
        "        df_column=df_txt_files[i][['label','xtl','ytl','xbr','ybr']]\n",
        "        df_columns.append(df_column)\n",
        "\n",
        "    # 각 이미지이름과 동일하도록 txt파일 이름 정하고, 각 txt파일에 들어갈 컬럼들만 추출한 것으로 txt파일 만들기\n",
        "    for i in range(len(file_names)):\n",
        "        file_name=file_names[i].split('.')[0]\n",
        "        df_columns[i].to_csv('/Users/ejju/Desktop/개발자대회_WISET/ju/all_txt_files/'+file_name+'.txt', sep=' ', index=False, header=None)"
      ]
    },
    {
      "cell_type": "code",
      "source": [
        "print(\"연지수 추가\")"
      ],
      "metadata": {
        "id": "Lb-YklFFi84t"
      },
      "execution_count": null,
      "outputs": []
    }
  ],
  "metadata": {
    "kernelspec": {
      "display_name": "Python 3.9.7 ('base')",
      "language": "python",
      "name": "python3"
    },
    "language_info": {
      "codemirror_mode": {
        "name": "ipython",
        "version": 3
      },
      "file_extension": ".py",
      "mimetype": "text/x-python",
      "name": "python",
      "nbconvert_exporter": "python",
      "pygments_lexer": "ipython3",
      "version": "3.9.7"
    },
    "orig_nbformat": 4,
    "vscode": {
      "interpreter": {
        "hash": "c1de356c01870b1905353d93fb5b08e9dac708fcd7a1cb7f129b78550db01998"
      }
    },
    "colab": {
      "provenance": []
    }
  },
  "nbformat": 4,
  "nbformat_minor": 0
}