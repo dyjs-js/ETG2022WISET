{
  "cells": [
    {
      "cell_type": "markdown",
      "metadata": {
        "id": "view-in-github",
        "colab_type": "text"
      },
      "source": [
        "<a href=\"https://colab.research.google.com/github/dyjs-js/etg2022WISET/blob/main/0823_multi_xml2txt_SJ.ipynb\" target=\"_parent\"><img src=\"https://colab.research.google.com/assets/colab-badge.svg\" alt=\"Open In Colab\"/></a>"
      ]
    },
    {
      "cell_type": "code",
      "source": [
        "from google.colab import drive\n",
        "drive.mount('/content/gdrive')"
      ],
      "metadata": {
        "id": "Bo3ZbiTRn_N1",
        "colab": {
          "base_uri": "https://localhost:8080/"
        },
        "outputId": "ca53d7d7-8cec-4231-97d3-6be4ad86d474"
      },
      "execution_count": null,
      "outputs": [
        {
          "output_type": "stream",
          "name": "stdout",
          "text": [
            "Mounted at /content/gdrive\n"
          ]
        }
      ]
    },
    {
      "cell_type": "code",
      "source": [
        "%mkdir /content/xml\n",
        "%cp /content/gdrive/My\\ Drive/ETG/img2txt/*.xml /content/xml"
      ],
      "metadata": {
        "id": "v-Me28nY9fhR"
      },
      "execution_count": null,
      "outputs": []
    },
    {
      "cell_type": "code",
      "source": [
        "%cd /content/xml\n",
        "!ls"
      ],
      "metadata": {
        "id": "CilOY7RE-W33",
        "colab": {
          "base_uri": "https://localhost:8080/"
        },
        "outputId": "4d6028cb-93b9-4ddc-f17e-d4d130e9dac8"
      },
      "execution_count": null,
      "outputs": [
        {
          "output_type": "stream",
          "name": "stdout",
          "text": [
            "/content/xml\n",
            "0704_02.xml  0704_11.xml    0704_19.xml  0704_28.xml  0708_07.xml  0708_16.xml\n",
            "0704_03.xml  0704_12_1.xml  0704_20.xml  0704_29.xml  0708_08.xml  0708_17.xml\n",
            "0704_04.xml  0704_12_2.xml  0704_21.xml  0704_30.xml  0708_09.xml  0708_18.xml\n",
            "0704_05.xml  0704_13.xml    0704_22.xml  0708_01.xml  0708_10.xml  0708_25.xml\n",
            "0704_06.xml  0704_14.xml    0704_23.xml  0708_02.xml  0708_11.xml  0709_01.xml\n",
            "0704_07.xml  0704_15.xml    0704_24.xml  0708_03.xml  0708_12.xml\n",
            "0704_08.xml  0704_16.xml    0704_25.xml  0708_04.xml  0708_13.xml\n",
            "0704_09.xml  0704_17.xml    0704_26.xml  0708_05.xml  0708_14.xml\n",
            "0704_10.xml  0704_18.xml    0704_27.xml  0708_06.xml  0708_15.xml\n"
          ]
        }
      ]
    },
    {
      "cell_type": "code",
      "source": [
        "import pandas as pd\n",
        "import xml.etree.ElementTree as ET\n",
        "import os\n",
        "import sys\n",
        "\n",
        "def createFolder(directory):\n",
        "    try:\n",
        "        if not os.path.exists(directory):\n",
        "            os.makedirs(directory)\n",
        "    except OSError:\n",
        "        print('Error:Creating directory.'+directory)\n",
        "\n",
        "createFolder('/content/xml/txt_files')"
      ],
      "metadata": {
        "id": "sFG59xfOp20L"
      },
      "execution_count": null,
      "outputs": []
    },
    {
      "cell_type": "code",
      "source": [
        "target_dir = r'/content/xml'\n",
        "file_list = os.listdir(target_dir)\n",
        "xml_list = []"
      ],
      "metadata": {
        "id": "mrw-NIh3sFbV"
      },
      "execution_count": null,
      "outputs": []
    },
    {
      "cell_type": "code",
      "source": [
        "for file in file_list:\n",
        "  if file == \"\" :\n",
        "    break \n",
        "  if \".xml\" in file:\n",
        "    xml_list.append(file)\n",
        "  for xml_file in xml_list:\n",
        "    target_path = target_dir + '/' + xml_file\n",
        "    target_xml = open(target_path, \"rt\", encoding = \"utf8\")\n",
        "    tree = ET.parse(target_xml)\n",
        "    root = tree.getroot()\n",
        "\n",
        "    rows=[]\n",
        "    for i in range(2,len(root)):\n",
        "      id=root[i].attrib['id']\n",
        "      name=root[i].attrib['name']\n",
        "      x=root[i]\n",
        "\n",
        "      for j in range(len(x)):\n",
        "        label = x[j].attrib['label']\n",
        "        xtl = x[j].attrib['xtl']\n",
        "        ytl = x[j].attrib['ytl']\n",
        "        xbr = x[j].attrib['xbr']\n",
        "        ybr = x[j].attrib['ybr']\n",
        "        rows.append({\n",
        "            \"id\": id,\n",
        "            \"name\": name,\n",
        "            \"label\": label,\n",
        "            \"xtl\": xtl,\n",
        "            \"ytl\": ytl,\n",
        "            \"xbr\": xbr,\n",
        "            \"ybr\": ybr,\n",
        "            })\n",
        "    df = pd.DataFrame(rows)\n",
        "\n",
        "    file_names=[]\n",
        "    for k in range(2, len(root)):\n",
        "      name=root[k].attrib['name']\n",
        "      file_names.append(name)\n",
        "\n",
        "    # 각 이미지파일에 해당하는 행들끼리 나눠주기\n",
        "    df_txt_files=[]\n",
        "    for n in range(len(file_names)):\n",
        "      df_image=(df['name']==file_names[n])\n",
        "      df_txt_file=df[df_image]\n",
        "      df_txt_files.append(df_txt_file)\n",
        "      \n",
        "    # 각 txt파일에 들어갈 컬럼들만 추출    \n",
        "    df_columns=[]\n",
        "    for m in range(len(df_txt_files)):\n",
        "      df_column=df_txt_files[m][['label','xtl','ytl','xbr','ybr']]\n",
        "      df_columns.append(df_column)\n",
        "\n",
        "    # 각 이미지이름과 동일하도록 txt파일 이름 정하고, 각 txt파일에 들어갈 컬럼들만 추출한 것으로 txt파일 만들기\n",
        "    for p in range(len(file_names)):\n",
        "      file_name=file_names[p].split('.')[0]\n",
        "      df_columns[p].to_csv('/content/xml/txt_files/'+file_name+'.txt', sep=' ', index=False, header=None)"
      ],
      "metadata": {
        "id": "ApILh2pfr5gw"
      },
      "execution_count": null,
      "outputs": []
    },
    {
      "cell_type": "code",
      "source": [
        "#%mkdir /content/gdrive/My\\ Drive/ETG/img2txt/txt_files_151_200\n",
        "%cd /content/gdrive/My\\ Drive/ETG/img2txt/txt_files_151_200\n",
        "%cp /content/xml/txt_files/* ./"
      ],
      "metadata": {
        "id": "XiOxMF0Pxrw4",
        "colab": {
          "base_uri": "https://localhost:8080/"
        },
        "outputId": "52d16b35-6279-4e8f-b1a3-050014de222a"
      },
      "execution_count": null,
      "outputs": [
        {
          "output_type": "stream",
          "name": "stdout",
          "text": [
            "/content/gdrive/My Drive/ETG/img2txt/txt_files_151_200\n"
          ]
        }
      ]
    },
    {
      "cell_type": "code",
      "source": [
        ""
      ],
      "metadata": {
        "id": "oq-XSZmlwz7m"
      },
      "execution_count": null,
      "outputs": []
    },
    {
      "cell_type": "code",
      "source": [
        "!pwd"
      ],
      "metadata": {
        "colab": {
          "base_uri": "https://localhost:8080/"
        },
        "id": "PB7JBJlNAm4d",
        "outputId": "100fc13d-958b-4a88-99ce-ea438c47b502"
      },
      "execution_count": null,
      "outputs": [
        {
          "output_type": "stream",
          "name": "stdout",
          "text": [
            "/content/gdrive/MyDrive/ETG/img2txt/txt_files_151_200\n"
          ]
        }
      ]
    },
    {
      "cell_type": "code",
      "source": [
        "!ls|wc -l"
      ],
      "metadata": {
        "id": "3NG0OrxHAoaJ",
        "colab": {
          "base_uri": "https://localhost:8080/"
        },
        "outputId": "b8907e52-2e69-496a-fc8f-d4cb0899543d"
      },
      "execution_count": null,
      "outputs": [
        {
          "output_type": "stream",
          "name": "stdout",
          "text": [
            "11569\n"
          ]
        }
      ]
    },
    {
      "cell_type": "code",
      "source": [
        "print(\"test 연지수추가\")"
      ],
      "metadata": {
        "id": "2l8dMMtCGobs"
      },
      "execution_count": null,
      "outputs": []
    }
  ],
  "metadata": {
    "kernelspec": {
      "display_name": "Python 3.9.7 ('base')",
      "language": "python",
      "name": "python3"
    },
    "language_info": {
      "codemirror_mode": {
        "name": "ipython",
        "version": 3
      },
      "file_extension": ".py",
      "mimetype": "text/x-python",
      "name": "python",
      "nbconvert_exporter": "python",
      "pygments_lexer": "ipython3",
      "version": "3.9.7"
    },
    "orig_nbformat": 4,
    "vscode": {
      "interpreter": {
        "hash": "c1de356c01870b1905353d93fb5b08e9dac708fcd7a1cb7f129b78550db01998"
      }
    },
    "colab": {
      "name": "0823_multi_xml2txt_SJ.ipynb",
      "provenance": [],
      "collapsed_sections": [],
      "include_colab_link": true
    },
    "accelerator": "GPU",
    "gpuClass": "standard"
  },
  "nbformat": 4,
  "nbformat_minor": 0
}